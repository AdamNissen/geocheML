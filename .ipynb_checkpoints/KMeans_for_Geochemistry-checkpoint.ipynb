{
 "cells": [
  {
   "cell_type": "markdown",
   "id": "8a01df63",
   "metadata": {},
   "source": [
    "# KMeans clustering for ICPMS Geochemistry\n",
    "\n",
    "## Import block\n",
    "#### Modules\n",
    "Talk about the the imported dependancies\\\n",
    "\n",
    "\n",
    "#### Example data\n",
    "Introduce the example datasets"
   ]
  },
  {
   "cell_type": "code",
   "execution_count": null,
   "id": "db42c0e3",
   "metadata": {},
   "outputs": [],
   "source": [
    "import pandas as pd\n",
    "from geocheML import Kmeans_interrogation\n",
    "from examples import single_phase"
   ]
  },
  {
   "cell_type": "markdown",
   "id": "5592350f",
   "metadata": {},
   "source": [
    "## Data block\n",
    "\n",
    "Importing points as a csv\\\n",
    "using the second dataset by just calling"
   ]
  },
  {
   "cell_type": "code",
   "execution_count": null,
   "id": "17c2fbd6",
   "metadata": {},
   "outputs": [],
   "source": [
    "chemistry = pd.read_csv(\"example_data/multi.csv\")\n",
    "cls = Kmeans_interrogation() #cls as in clustering\n",
    "cls.load(data = chemistry, instance_marker = 'analysis')"
   ]
  },
  {
   "cell_type": "markdown",
   "id": "dffa530c",
   "metadata": {},
   "source": [
    "## NaN block\n",
    "\n",
    "the implications of dropping NaN stuff\\\n",
    "how to use cls.remove_nan()\\\n",
    "reading and understanding the output"
   ]
  },
  {
   "cell_type": "code",
   "execution_count": null,
   "id": "0ce73d87",
   "metadata": {},
   "outputs": [],
   "source": [
    "cls.remove_nan()"
   ]
  },
  {
   "cell_type": "markdown",
   "id": "096332dd",
   "metadata": {},
   "source": [
    "## KMeans Clustering\n",
    "\n",
    "describe it\\\n",
    "cluster counts\\\n",
    "excluding/including elements\\\n",
    "excluding instances\\\n",
    "cluster counts and how to check them\n",
    "\n"
   ]
  },
  {
   "cell_type": "code",
   "execution_count": null,
   "id": "f00bb087",
   "metadata": {},
   "outputs": [],
   "source": [
    "cls.cluster(clusters = 3)\n",
    "print(cls.cluster_counts)"
   ]
  },
  {
   "cell_type": "markdown",
   "id": "58e90390",
   "metadata": {},
   "source": [
    "## Distribution plots\n",
    "\n",
    "describe them, unclustered\\\n",
    "and clustered\\\n",
    "how they can be used to interpret the data\\\n",
    "how they can be used for large datasets\\\n",
    "talk about the arguments"
   ]
  },
  {
   "cell_type": "code",
   "execution_count": null,
   "id": "039c5c81",
   "metadata": {},
   "outputs": [],
   "source": [
    "cls.distribution_plot(title = 'Multi-mineral example',\n",
    "                      colour_clusters = False)"
   ]
  },
  {
   "cell_type": "code",
   "execution_count": null,
   "id": "f54107c5",
   "metadata": {},
   "outputs": [],
   "source": [
    "cls.distribution_plot(title = 'Multi-mineral example',\n",
    "                      colour_clusters = True)"
   ]
  },
  {
   "cell_type": "markdown",
   "id": "0e30e8d4",
   "metadata": {},
   "source": [
    "## Pair plots\n",
    "\n",
    "describe the pair plots\\\n",
    "talk about how they can hint at clusters\\\n",
    "talk about how important it is to limit the number of elements in the pairplots, and in particular what that would mean for the computing time. Perhaps also how to interup the computing if it is taking too long."
   ]
  },
  {
   "cell_type": "code",
   "execution_count": null,
   "id": "e1736455",
   "metadata": {},
   "outputs": [],
   "source": [
    "cls.pair_plot(colour_clusters = True,\n",
    "             subset_list = ['Na', 'Al', 'K', 'Sr'])"
   ]
  },
  {
   "cell_type": "markdown",
   "id": "adc15913",
   "metadata": {},
   "source": [
    "## Saving the data\n",
    "\n",
    "data is saved as a class attribute\\\n",
    "how to look at it\\\n",
    "how to save it\\\n",
    "where the clusters are saved\\"
   ]
  },
  {
   "cell_type": "code",
   "execution_count": null,
   "id": "a28db40a",
   "metadata": {},
   "outputs": [],
   "source": [
    "#cls.to_csv('D:/users/user1/desktop', index = False)"
   ]
  }
 ],
 "metadata": {
  "kernelspec": {
   "display_name": "Python 3 (ipykernel)",
   "language": "python",
   "name": "python3"
  },
  "language_info": {
   "codemirror_mode": {
    "name": "ipython",
    "version": 3
   },
   "file_extension": ".py",
   "mimetype": "text/x-python",
   "name": "python",
   "nbconvert_exporter": "python",
   "pygments_lexer": "ipython3",
   "version": "3.9.13"
  }
 },
 "nbformat": 4,
 "nbformat_minor": 5
}
